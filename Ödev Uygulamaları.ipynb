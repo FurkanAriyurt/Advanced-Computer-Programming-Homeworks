{
 "cells": [
  {
   "cell_type": "markdown",
   "id": "0dc9c509",
   "metadata": {},
   "source": [
    "## 2. HAFTA ÖDEVLERİ\n",
    "### Uygulama 1\n",
    "* Kullanıcıdan Vize, Final Notunu İsteyip Ortalamasını Hesaplayan Devamsızlık Bilgisini Alıp, Geçip Geçmediğini ve Harf Notunu Gösteren Bir Program Yazınız."
   ]
  },
  {
   "cell_type": "code",
   "execution_count": 5,
   "id": "56a176d7",
   "metadata": {},
   "outputs": [
    {
     "name": "stdout",
     "output_type": "stream",
     "text": [
      "Okulunuzun İzin Verdiği Devamsızlık Hakkınız Kaç?: 4\n",
      "Kaç Hafta Okula Gitmediniz?: 4\n",
      "Vize Notunuzu Giriniz: 80\n",
      "Final Notunuzu Giriniz: 80\n",
      "Ortalamanız: 80.0 ve Harf Notunuz: AB \n",
      "GEÇTİN...\n"
     ]
    }
   ],
   "source": [
    "question_1 = int(input(\"Okulunuzun İzin Verdiği Devamsızlık Hakkınız Kaç?: \"))\n",
    "question_2 = int(input(\"Kaç Hafta Okula Gitmediniz?: \"))\n",
    "\n",
    "if question_1 >= question_2:\n",
    "    vize = int(input(\"Vize Notunuzu Giriniz: \"))\n",
    "    final = int(input(\"Final Notunuzu Giriniz: \"))\n",
    "    \n",
    "    ortalama = (vize*0.4) + (final*0.6)\n",
    "    \n",
    "    if ortalama <= 100 and ortalama >= 90:\n",
    "        print(\"Ortalamanız: {} ve Harf Notunuz: AA \".format(ortalama))\n",
    "        print(\"GEÇTİN...\")\n",
    "    elif ortalama <= 89 and ortalama >= 80:\n",
    "        print(\"Ortalamanız: {} ve Harf Notunuz: AB \".format(ortalama))\n",
    "        print(\"GEÇTİN...\")\n",
    "    elif ortalama <= 79 and ortalama >= 70:\n",
    "        print(\"Ortalamanız: {} ve Harf Notunuz: BA \".format(ortalama))\n",
    "        print(\"GEÇTİN...\")\n",
    "    elif ortalama <= 69 and ortalama >= 60:\n",
    "        print(\"Ortalamanız: {} ve Harf Notunuz: BB \".format(ortalama))\n",
    "        print(\"GEÇTİN...\")\n",
    "    elif ortalama <= 59 and ortalama >= 50:\n",
    "        print(\"Ortalamanız: {} ve Harf Notunuz: CC \".format(ortalama))\n",
    "        print(\"GEÇTİN...\")\n",
    "    elif ortalama <= 49 and ortalama >= 0:\n",
    "        print(\"Ortalamanız: {} ve Harf Notunuz: FF \".format(ortalama))\n",
    "        print(\"KALDIN...\")\n",
    "                             \n",
    "elif question_1 < question_2:\n",
    "    print(\"Devamsızlıktan Kaldınız. Sınava Girmenize Gerek Yok.\")\n",
    "\n",
    "    "
   ]
  },
  {
   "cell_type": "markdown",
   "id": "6650f817",
   "metadata": {},
   "source": [
    "### Uygulama 2\n",
    "* Kullanıcının Girdiği Verilerle Vücut Kitle İndeksini Hesaplayınız."
   ]
  },
  {
   "cell_type": "code",
   "execution_count": 7,
   "id": "879298f1",
   "metadata": {},
   "outputs": [
    {
     "name": "stdout",
     "output_type": "stream",
     "text": [
      "Vücut Kitle Endeksi Hesaplama Programına Hoş Geldiniz. Programın Doğru Çalışabilmesi İçin Boyunuzu Metre Cinsinden Giriniz!!!\n",
      "\n",
      "Boyunuzu Giriniz (m): 1.73\n",
      "Kilonuzu Giriniz (kg): 73\n",
      "\n",
      "Normal Vücut Kitle İndeks: 24.3910588392529\n"
     ]
    }
   ],
   "source": [
    "print(\"Vücut Kitle Endeksi Hesaplama Programına Hoş Geldiniz. Programın Doğru Çalışabilmesi İçin Boyunuzu Metre Cinsinden Giriniz!!!\\n\")\n",
    "\n",
    "height = float(input(\"Boyunuzu Giriniz (m): \"))\n",
    "weight = int(input(\"Kilonuzu Giriniz (kg): \"))\n",
    "\n",
    "indeks = weight/(height*height) #Vücut Kitle İndeksi Formülü\n",
    "\n",
    "if indeks <= 18:\n",
    "    print(\"\\nZayıf Vücut Kitle İndeksi:\", indeks)\n",
    "elif indeks > 18 or indeks < 25:\n",
    "    print(\"\\nNormal Vücut Kitle İndeks:\", indeks)\n",
    "elif indeks >= 25 or indeks < 30:\n",
    "    print(\"\\nKilolu Vücut Kitle İndeksi:\", indeks)\n",
    "elif indeks >= 30 or indeks < 34 :\n",
    "    print(\"\\nObez Vücut Kitle İndeksi:\", indeks)\n",
    "elif indeks >= 35:\n",
    "    print(\"\\nAşırı Obez Vücut Kitle İndeksi:\", indeks)"
   ]
  },
  {
   "cell_type": "markdown",
   "id": "cad5ef4b",
   "metadata": {},
   "source": [
    "### Uygulama 3\n",
    "* Kullanıcıdan Doğum Yılını İsteyiniz. Yaşını Hesaplayıp, Hangi Kuşağa Ait Olduğunu Gösteren Bir Program Yazınız."
   ]
  },
  {
   "cell_type": "code",
   "execution_count": 27,
   "id": "85f384e4",
   "metadata": {},
   "outputs": [
    {
     "name": "stdout",
     "output_type": "stream",
     "text": [
      "Hangi Kuşak Olduğunuzu Merak Mı Ediyorsunuz? Doğum Yılınızı Girerek Öğrenebilirsiniz!!!\n",
      "\n",
      "Doğum Yılınızı Giriniz: 1999\n",
      "\n",
      "Bulunduğunuz Kuşak 'Z Kuşağı' Olarak Geçmektedir.\n",
      "Yaşınız: 22\n"
     ]
    }
   ],
   "source": [
    "print(\"Hangi Kuşak Olduğunuzu Merak Mı Ediyorsunuz? Doğum Yılınızı Girerek Öğrenebilirsiniz!!!\\n\")\n",
    "\n",
    "this_year = 2021 \n",
    "year_of_birth = int(input(\"Doğum Yılınızı Giriniz: \"))\n",
    "\n",
    "age = this_year - year_of_birth\n",
    "\n",
    "if year_of_birth <= 1925:\n",
    "    print(\"\\nBulunduğunuz Kuşak 'Kayıp Kuşak' Olarak Geçmektedir.\\nYaşınız: {}\".format(age))\n",
    "elif year_of_birth <= 1926 or year_of_birth <= 1945:\n",
    "    print(\"\\nBulunduğunuz Kuşak 'Sessiz Kuşak' Olarak Geçmektedir.\\nYaşınız: {}\".format(age))\n",
    "elif year_of_birth <= 1946 or year_of_birth <= 1964:\n",
    "    print(\"\\nBulunduğunuz Kuşak 'Bebek Patlaması Kuşağı' Olarak Geçmektedir.\\nYaşınız: {}\".format(age))\n",
    "elif year_of_birth <= 1965 or year_of_birth <= 1979:\n",
    "    print(\"\\nBulunduğunuz Kuşak 'X Kuşağı' Olarak Geçmektedir.\\nYaşınız: {}\".format(age))\n",
    "elif year_of_birth <= 1980 or year_of_birth <= 1995:\n",
    "    print(\"\\nBulunduğunuz Kuşak 'Y Kuşağı' Olarak Geçmektedir.\\nYaşınız: {}\".format(age))\n",
    "elif year_of_birth <= 1996 or year_of_birth <= 2015:\n",
    "    print(\"\\nBulunduğunuz Kuşak 'Z Kuşağı' Olarak Geçmektedir.\\nYaşınız: {}\".format(age))\n",
    "elif year_of_birth <= 2016 or year_of_birth <= 2030:\n",
    "    print(\"\\nBulunduğunuz Kuşak 'Alfa Kuşağı' Olarak Geçmektedir.\\nYaşınız: {}\".format(age))\n",
    "else:\n",
    "    print(\"\\nGirdiğiniz Yıla Ait Kuşak Bulunmamaktadır.\")"
   ]
  },
  {
   "cell_type": "code",
   "execution_count": null,
   "id": "54a3b4c4",
   "metadata": {},
   "outputs": [],
   "source": []
  }
 ],
 "metadata": {
  "kernelspec": {
   "display_name": "Python 3",
   "language": "python",
   "name": "python3"
  },
  "language_info": {
   "codemirror_mode": {
    "name": "ipython",
    "version": 3
   },
   "file_extension": ".py",
   "mimetype": "text/x-python",
   "name": "python",
   "nbconvert_exporter": "python",
   "pygments_lexer": "ipython3",
   "version": "3.8.8"
  }
 },
 "nbformat": 4,
 "nbformat_minor": 5
}
